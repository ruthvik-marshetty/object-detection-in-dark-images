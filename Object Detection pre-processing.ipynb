{
 "cells": [
  {
   "cell_type": "markdown",
   "id": "2551ff55",
   "metadata": {
    "id": "2551ff55"
   },
   "source": [
    "#### Preparing the Annotations for Model training and evaluation\n"
   ]
  },
  {
   "cell_type": "markdown",
   "id": "2e08bee0",
   "metadata": {
    "id": "2e08bee0"
   },
   "source": [
    "As per the instructions given by pytorchYolo, performing the below steps.\n",
    "- Moving all the images to PytorchYolo->data->custom->images folder\n",
    "- Modifying the annotations file by replacing object class names with 0 indexed numbers.\n",
    "- Moving all the labels to PytorchYolo->data->custom->labels folder.\n",
    "- Normalizing the bounding box values to lie between [0,1]\n",
    "- Spliting the data to train and validation and creating the respective .txt files with complete image path in each line.\n",
    "- Modify the Yolov3-custom.config file according to the classes count. \n",
    "- Training the Yolov3 model on exdark dataset."
   ]
  },
  {
   "cell_type": "code",
   "execution_count": null,
   "id": "64d05fb4",
   "metadata": {
    "id": "64d05fb4"
   },
   "outputs": [],
   "source": [
    "import os\n",
    "import cv2\n",
    "import numpy as np\n",
    "from tqdm import tqdm\n",
    "import argparse\n",
    "import fileinput\n",
    "import shutil\n",
    "import pandas as pd"
   ]
  },
  {
   "cell_type": "code",
   "execution_count": null,
   "id": "aec7bf59",
   "metadata": {
    "id": "aec7bf59",
    "outputId": "b861ee82-dad0-4399-bbfe-fe230dbdec00"
   },
   "outputs": [
    {
     "name": "stdout",
     "output_type": "stream",
     "text": [
      "['People', 'Bottle', 'Bicycle', 'Car', 'Boat', 'Dog', 'Cat', 'Chair', 'Bus', 'Table', 'Cup', 'Motorbike']\n",
      "/home/ruthvik/jupyter/aaic/DL/self_case_study_2/ExDark/Dataset\n",
      "Currently in subdirectory: People\n"
     ]
    },
    {
     "name": "stderr",
     "output_type": "stream",
     "text": [
      "100%|██████████| 609/609 [00:07<00:00, 76.35it/s]\n"
     ]
    },
    {
     "name": "stdout",
     "output_type": "stream",
     "text": [
      "Currently in subdirectory: Bottle\n"
     ]
    },
    {
     "name": "stderr",
     "output_type": "stream",
     "text": [
      "100%|██████████| 547/547 [00:05<00:00, 91.75it/s] \n"
     ]
    },
    {
     "name": "stdout",
     "output_type": "stream",
     "text": [
      "Currently in subdirectory: Bicycle\n"
     ]
    },
    {
     "name": "stderr",
     "output_type": "stream",
     "text": [
      "100%|██████████| 652/652 [00:07<00:00, 89.38it/s] \n"
     ]
    },
    {
     "name": "stdout",
     "output_type": "stream",
     "text": [
      "Currently in subdirectory: Car\n"
     ]
    },
    {
     "name": "stderr",
     "output_type": "stream",
     "text": [
      "100%|██████████| 638/638 [00:30<00:00, 20.70it/s]\n"
     ]
    },
    {
     "name": "stdout",
     "output_type": "stream",
     "text": [
      "Currently in subdirectory: Boat\n"
     ]
    },
    {
     "name": "stderr",
     "output_type": "stream",
     "text": [
      "100%|██████████| 679/679 [00:18<00:00, 37.58it/s] \n"
     ]
    },
    {
     "name": "stdout",
     "output_type": "stream",
     "text": [
      "Currently in subdirectory: Dog\n"
     ]
    },
    {
     "name": "stderr",
     "output_type": "stream",
     "text": [
      "100%|██████████| 801/801 [00:09<00:00, 87.77it/s] \n"
     ]
    },
    {
     "name": "stdout",
     "output_type": "stream",
     "text": [
      "Currently in subdirectory: Cat\n"
     ]
    },
    {
     "name": "stderr",
     "output_type": "stream",
     "text": [
      "100%|██████████| 735/735 [00:12<00:00, 61.06it/s]\n"
     ]
    },
    {
     "name": "stdout",
     "output_type": "stream",
     "text": [
      "Currently in subdirectory: Chair\n"
     ]
    },
    {
     "name": "stderr",
     "output_type": "stream",
     "text": [
      "100%|██████████| 648/648 [00:32<00:00, 20.14it/s]\n"
     ]
    },
    {
     "name": "stdout",
     "output_type": "stream",
     "text": [
      "Currently in subdirectory: Bus\n"
     ]
    },
    {
     "name": "stderr",
     "output_type": "stream",
     "text": [
      "100%|██████████| 527/527 [00:19<00:00, 26.83it/s]\n"
     ]
    },
    {
     "name": "stdout",
     "output_type": "stream",
     "text": [
      "Currently in subdirectory: Table\n"
     ]
    },
    {
     "name": "stderr",
     "output_type": "stream",
     "text": [
      "100%|██████████| 505/505 [00:08<00:00, 57.15it/s]\n"
     ]
    },
    {
     "name": "stdout",
     "output_type": "stream",
     "text": [
      "Currently in subdirectory: Cup\n"
     ]
    },
    {
     "name": "stderr",
     "output_type": "stream",
     "text": [
      "100%|██████████| 519/519 [00:05<00:00, 95.94it/s] \n"
     ]
    },
    {
     "name": "stdout",
     "output_type": "stream",
     "text": [
      "Currently in subdirectory: Motorbike\n"
     ]
    },
    {
     "name": "stderr",
     "output_type": "stream",
     "text": [
      "100%|██████████| 503/503 [00:11<00:00, 43.73it/s]\n"
     ]
    }
   ],
   "source": [
    "# copying the images from ExDark folder to PyTorch Data custom folder\n",
    "\n",
    "os.chdir(\"/home/ruthvik/jupyter/aaic/DL/self_case_study_2\")\n",
    "\n",
    "ROOT_DIR = os.getcwd()\n",
    "\n",
    "os.chdir(os.path.join(\"ExDark\", \"Dataset\"))\n",
    "DIRS = os.listdir(os.getcwd())\n",
    "\n",
    "print(DIRS)\n",
    "print(os.getcwd())\n",
    "\n",
    "dest_dir = '/home/ruthvik/jupyter/aaic/DL/self_case_study_2/PyTorch-YOLOv3/data/custom/images/'\n",
    "\n",
    "for DIR in DIRS:\n",
    "    if os.path.isdir(DIR):\n",
    "        \n",
    "        print(\"Currently in subdirectory:\", DIR)\n",
    "\n",
    "        # path to source directory\n",
    "        src_dir = DIR\n",
    "\n",
    "        # getting all the files in the source directory\n",
    "        files = os.listdir(src_dir)\n",
    "        \n",
    "        for fname in tqdm(files):\n",
    "     \n",
    "            # copying the files to the\n",
    "            # destination directory\n",
    "            shutil.copy2(os.path.join(src_dir,fname), dest_dir)\n",
    "\n",
    "os.chdir(\"/home/ruthvik/jupyter/aaic/DL/self_case_study_2\")"
   ]
  },
  {
   "cell_type": "code",
   "execution_count": null,
   "id": "5ee31137",
   "metadata": {
    "id": "5ee31137",
    "outputId": "b4d35f55-1768-41cf-d1c0-009cb07fb12f"
   },
   "outputs": [
    {
     "name": "stdout",
     "output_type": "stream",
     "text": [
      "{'bicycle': 0, 'boat': 1, 'bottle': 2, 'bus': 3, 'car': 4, 'cat': 5, 'chair': 6, 'cup': 7, 'dog': 8, 'motorbike': 9, 'people': 10, 'table': 11}\n",
      "['People', 'Bottle', 'Bicycle', 'Car', 'Boat', 'Dog', 'Cat', 'Chair', 'Bus', 'Table', 'Cup', 'Motorbike']\n",
      "/home/ruthvik/jupyter/aaic/DL/self_case_study_2/ExDark/Annotations\n",
      "Currently in subdirectory: People\n"
     ]
    },
    {
     "name": "stderr",
     "output_type": "stream",
     "text": [
      "100%|██████████| 609/609 [00:00<00:00, 3368.72it/s]\n"
     ]
    },
    {
     "name": "stdout",
     "output_type": "stream",
     "text": [
      "Currently in subdirectory: Bottle\n"
     ]
    },
    {
     "name": "stderr",
     "output_type": "stream",
     "text": [
      "100%|██████████| 547/547 [00:00<00:00, 656.41it/s]\n"
     ]
    },
    {
     "name": "stdout",
     "output_type": "stream",
     "text": [
      "Currently in subdirectory: Bicycle\n"
     ]
    },
    {
     "name": "stderr",
     "output_type": "stream",
     "text": [
      "100%|██████████| 652/652 [00:00<00:00, 2199.58it/s]\n"
     ]
    },
    {
     "name": "stdout",
     "output_type": "stream",
     "text": [
      "Currently in subdirectory: Car\n"
     ]
    },
    {
     "name": "stderr",
     "output_type": "stream",
     "text": [
      "100%|██████████| 638/638 [00:00<00:00, 3351.80it/s]\n"
     ]
    },
    {
     "name": "stdout",
     "output_type": "stream",
     "text": [
      "Currently in subdirectory: Boat\n"
     ]
    },
    {
     "name": "stderr",
     "output_type": "stream",
     "text": [
      "100%|██████████| 679/679 [00:00<00:00, 3697.14it/s]\n"
     ]
    },
    {
     "name": "stdout",
     "output_type": "stream",
     "text": [
      "Currently in subdirectory: Dog\n"
     ]
    },
    {
     "name": "stderr",
     "output_type": "stream",
     "text": [
      "100%|██████████| 801/801 [00:00<00:00, 3906.66it/s]\n"
     ]
    },
    {
     "name": "stdout",
     "output_type": "stream",
     "text": [
      "Currently in subdirectory: Cat\n"
     ]
    },
    {
     "name": "stderr",
     "output_type": "stream",
     "text": [
      "100%|██████████| 735/735 [00:00<00:00, 3388.85it/s]\n"
     ]
    },
    {
     "name": "stdout",
     "output_type": "stream",
     "text": [
      "Currently in subdirectory: Chair\n"
     ]
    },
    {
     "name": "stderr",
     "output_type": "stream",
     "text": [
      "100%|██████████| 648/648 [00:00<00:00, 3305.54it/s]\n"
     ]
    },
    {
     "name": "stdout",
     "output_type": "stream",
     "text": [
      "Currently in subdirectory: Bus\n"
     ]
    },
    {
     "name": "stderr",
     "output_type": "stream",
     "text": [
      "100%|██████████| 527/527 [00:00<00:00, 3202.19it/s]\n"
     ]
    },
    {
     "name": "stdout",
     "output_type": "stream",
     "text": [
      "Currently in subdirectory: Table\n"
     ]
    },
    {
     "name": "stderr",
     "output_type": "stream",
     "text": [
      "100%|██████████| 505/505 [00:00<00:00, 3111.13it/s]\n"
     ]
    },
    {
     "name": "stdout",
     "output_type": "stream",
     "text": [
      "Currently in subdirectory: Cup\n"
     ]
    },
    {
     "name": "stderr",
     "output_type": "stream",
     "text": [
      "100%|██████████| 519/519 [00:00<00:00, 3695.77it/s]\n"
     ]
    },
    {
     "name": "stdout",
     "output_type": "stream",
     "text": [
      "Currently in subdirectory: Motorbike\n"
     ]
    },
    {
     "name": "stderr",
     "output_type": "stream",
     "text": [
      "100%|██████████| 503/503 [00:00<00:00, 2909.68it/s]\n"
     ]
    }
   ],
   "source": [
    "#Preprocessing the annotations file by changing label name to 0 indexed numbers\n",
    "\n",
    "os.chdir(\"/home/ruthvik/jupyter/aaic/DL/self_case_study_2\")\n",
    "ROOT_DIR = os.getcwd()\n",
    "\n",
    "# create dict to map class names to numbers for yolo\n",
    "classes = {}\n",
    "with open(\"classes.txt\", \"r\") as myFile:\n",
    "    for num, line in enumerate(myFile, 0):\n",
    "        line = line.rstrip(\"\\n\")\n",
    "        classes[line] = num\n",
    "    myFile.close()\n",
    "    \n",
    "# step into annotations directory\n",
    "os.chdir(os.path.join(\"ExDark\", \"Annotations\"))\n",
    "DIRS = os.listdir(os.getcwd())\n",
    "\n",
    "print(classes)\n",
    "print(DIRS)\n",
    "print(os.getcwd())\n",
    "\n",
    "for DIR in DIRS:\n",
    "\n",
    "    if os.path.isdir(DIR):\n",
    "        \n",
    "        os.chdir(DIR)\n",
    "        print(\"Currently in subdirectory:\", DIR)\n",
    "\n",
    "\n",
    "        for filename in tqdm(os.listdir(os.getcwd())):\n",
    "            filename_str = str.split(filename, \".\")[0]\n",
    "\n",
    "            if filename.endswith(\".txt\"):\n",
    "                annotations = []\n",
    "\n",
    "                with open(filename) as f:\n",
    "                    for l,line in enumerate(f):\n",
    "                        if l==0:\n",
    "                            continue\n",
    "                        class_label = line.split()[0]\n",
    "                        #excluded_classes =[]\n",
    "                        if class_label.lower() not in list(classes.keys()):\n",
    "                            #excluded_classes.append(class_label)\n",
    "                            continue\n",
    "                            \n",
    "                        line = line.replace(class_label,class_label.lower())\n",
    "                        \n",
    "                        line = line.replace(class_label.lower(), str(classes[class_label.lower()]))\n",
    "\n",
    "                        labels = line.split()\n",
    "                        coords = np.asarray([float(labels[1]), float(labels[2]), float(labels[3]), float(labels[4])])\n",
    "            \n",
    "                        labels[1], labels[2], labels[3], labels[4] = coords[0], coords[1], coords[2], coords[3]\n",
    "                        newline = str(labels[0]) + \" \" + str(labels[1]) + \" \" + str(labels[2]) + \" \" + str(labels[3]) + \" \" + str(labels[4])\n",
    "                        line = line.replace(line, newline)\n",
    "                        annotations.append(line)\n",
    "                    f.close()\n",
    "               \n",
    "                with open(filename, \"w\") as outfile:\n",
    "                    for line in annotations:\n",
    "                        outfile.write(line)\n",
    "                        outfile.write(\"\\n\")\n",
    "                    outfile.close()\n",
    "    \n",
    "        os.chdir(\"..\")\n",
    "\n"
   ]
  },
  {
   "cell_type": "code",
   "execution_count": null,
   "id": "fc0880ea",
   "metadata": {
    "id": "fc0880ea",
    "outputId": "3629e831-0f1a-4f8c-99ac-458826d0aa29"
   },
   "outputs": [
    {
     "name": "stdout",
     "output_type": "stream",
     "text": [
      "['People', 'Bottle', 'Bicycle', 'Car', 'Boat', 'Dog', 'Cat', 'Chair', 'Bus', 'Table', 'Cup', 'Motorbike']\n",
      "/home/ruthvik/jupyter/aaic/DL/self_case_study_2/ExDark/Annotations\n",
      "Currently in subdirectory: People\n"
     ]
    },
    {
     "name": "stderr",
     "output_type": "stream",
     "text": [
      "100%|██████████| 609/609 [00:00<00:00, 4918.05it/s]\n"
     ]
    },
    {
     "name": "stdout",
     "output_type": "stream",
     "text": [
      "Currently in subdirectory: Bottle\n"
     ]
    },
    {
     "name": "stderr",
     "output_type": "stream",
     "text": [
      "100%|██████████| 547/547 [00:00<00:00, 5094.57it/s]\n"
     ]
    },
    {
     "name": "stdout",
     "output_type": "stream",
     "text": [
      "Currently in subdirectory: Bicycle\n"
     ]
    },
    {
     "name": "stderr",
     "output_type": "stream",
     "text": [
      "100%|██████████| 652/652 [00:00<00:00, 4478.09it/s]\n"
     ]
    },
    {
     "name": "stdout",
     "output_type": "stream",
     "text": [
      "Currently in subdirectory: Car\n"
     ]
    },
    {
     "name": "stderr",
     "output_type": "stream",
     "text": [
      "100%|██████████| 638/638 [00:00<00:00, 5104.57it/s]\n"
     ]
    },
    {
     "name": "stdout",
     "output_type": "stream",
     "text": [
      "Currently in subdirectory: Boat\n"
     ]
    },
    {
     "name": "stderr",
     "output_type": "stream",
     "text": [
      "100%|██████████| 679/679 [00:00<00:00, 4640.89it/s]\n"
     ]
    },
    {
     "name": "stdout",
     "output_type": "stream",
     "text": [
      "Currently in subdirectory: Dog\n"
     ]
    },
    {
     "name": "stderr",
     "output_type": "stream",
     "text": [
      "100%|██████████| 801/801 [00:00<00:00, 5289.49it/s]\n"
     ]
    },
    {
     "name": "stdout",
     "output_type": "stream",
     "text": [
      "Currently in subdirectory: Cat\n"
     ]
    },
    {
     "name": "stderr",
     "output_type": "stream",
     "text": [
      "100%|██████████| 735/735 [00:00<00:00, 5113.53it/s]\n"
     ]
    },
    {
     "name": "stdout",
     "output_type": "stream",
     "text": [
      "Currently in subdirectory: Chair\n"
     ]
    },
    {
     "name": "stderr",
     "output_type": "stream",
     "text": [
      "100%|██████████| 648/648 [00:00<00:00, 4651.60it/s]\n"
     ]
    },
    {
     "name": "stdout",
     "output_type": "stream",
     "text": [
      "Currently in subdirectory: Bus\n"
     ]
    },
    {
     "name": "stderr",
     "output_type": "stream",
     "text": [
      "100%|██████████| 527/527 [00:00<00:00, 4482.72it/s]\n"
     ]
    },
    {
     "name": "stdout",
     "output_type": "stream",
     "text": [
      "Currently in subdirectory: Table\n"
     ]
    },
    {
     "name": "stderr",
     "output_type": "stream",
     "text": [
      "100%|██████████| 505/505 [00:00<00:00, 4075.02it/s]\n"
     ]
    },
    {
     "name": "stdout",
     "output_type": "stream",
     "text": [
      "Currently in subdirectory: Cup\n"
     ]
    },
    {
     "name": "stderr",
     "output_type": "stream",
     "text": [
      "100%|██████████| 519/519 [00:00<00:00, 5300.88it/s]\n"
     ]
    },
    {
     "name": "stdout",
     "output_type": "stream",
     "text": [
      "Currently in subdirectory: Motorbike\n"
     ]
    },
    {
     "name": "stderr",
     "output_type": "stream",
     "text": [
      "100%|██████████| 503/503 [00:00<00:00, 4566.32it/s]\n"
     ]
    }
   ],
   "source": [
    "# copying all the annotations to one folder \n",
    "\n",
    "os.chdir(\"/home/ruthvik/jupyter/aaic/DL/self_case_study_2/\")\n",
    "ROOT_DIR = os.getcwd()\n",
    "\n",
    "os.chdir(os.path.join(\"ExDark\", \"Annotations\"))\n",
    "DIRS = os.listdir(os.getcwd())\n",
    "\n",
    "print(DIRS)\n",
    "print(os.getcwd())\n",
    "\n",
    "dest_dir = \"/home/ruthvik/jupyter/aaic/DL/self_case_study_2/ExDark/labels/\"\n",
    "\n",
    "\n",
    "for DIR in DIRS:\n",
    "    if os.path.isdir(DIR):\n",
    "        \n",
    "        print(\"Currently in subdirectory:\", DIR)\n",
    "\n",
    "        # path to source directory\n",
    "        src_dir = DIR\n",
    "\n",
    "        # getting all the files in the source directory\n",
    "        files = os.listdir(src_dir)\n",
    "        \n",
    "        for fname in tqdm(files):\n",
    "            # copying the files to the\n",
    "            # destination directory\n",
    "            shutil.copy2(os.path.join(src_dir,fname), dest_dir)\n"
   ]
  },
  {
   "cell_type": "code",
   "execution_count": null,
   "id": "221f0c3b",
   "metadata": {
    "id": "221f0c3b",
    "outputId": "a8568d60-be2a-44d0-b1a2-cb22046055dc"
   },
   "outputs": [
    {
     "name": "stderr",
     "output_type": "stream",
     "text": [
      "100%|██████████| 7363/7363 [00:01<00:00, 5499.21it/s]\n"
     ]
    }
   ],
   "source": [
    "#copying the labels to pytorch data custom folder\n",
    "\n",
    "src_dir = \"/home/ruthvik/jupyter/aaic/DL/self_case_study_2/ExDark/labels/\"\n",
    "\n",
    "os.chdir(src_dir)\n",
    "\n",
    "des_dir = '/home/ruthvik/jupyter/aaic/DL/self_case_study_2/PyTorch-YOLOv3/data/custom/labels/'\n",
    "\n",
    "files = os.listdir(src_dir)\n",
    "\n",
    "\n",
    "# chaging the file name to filename.txt format\n",
    "\n",
    "for file in tqdm(files):\n",
    "    \n",
    "    lst = file.split('.')\n",
    "    fname = lst[0]+'.'+lst[2]\n",
    "    lines =[]\n",
    "    with open(file) as f:\n",
    "        for line in f:\n",
    "            lines.append(line)\n",
    "    os.chdir(des_dir)\n",
    "    with open(fname, 'w') as fn:\n",
    "        for line in lines:\n",
    "            fn.write(line)\n",
    "            #fn.write('\\n')\n",
    "        fn.close()\n",
    "    os.chdir(src_dir)\n"
   ]
  },
  {
   "cell_type": "code",
   "execution_count": null,
   "id": "b3461cd2",
   "metadata": {
    "id": "b3461cd2",
    "outputId": "c92d697a-221d-400c-e519-a3b0059fdf13"
   },
   "outputs": [
    {
     "name": "stderr",
     "output_type": "stream",
     "text": [
      " 20%|██        | 1476/7363 [00:33<02:55, 33.59it/s]libpng warning: iCCP: known incorrect sRGB profile\n",
      " 44%|████▎     | 3208/7363 [01:12<01:35, 43.40it/s]libpng warning: iCCP: known incorrect sRGB profile\n",
      " 48%|████▊     | 3546/7363 [01:19<00:51, 73.44it/s]libpng warning: iCCP: known incorrect sRGB profile\n",
      "libpng warning: iCCP: cHRM chunk does not match sRGB\n",
      " 56%|█████▌    | 4117/7363 [01:33<01:12, 44.49it/s]libpng warning: iCCP: known incorrect sRGB profile\n",
      " 66%|██████▌   | 4832/7363 [01:49<00:48, 52.61it/s]libpng warning: iCCP: known incorrect sRGB profile\n",
      " 66%|██████▌   | 4839/7363 [01:49<00:46, 54.33it/s]libpng warning: iCCP: known incorrect sRGB profile\n",
      "libpng warning: iCCP: cHRM chunk does not match sRGB\n",
      " 98%|█████████▊| 7244/7363 [02:46<00:01, 63.41it/s]libpng warning: iCCP: known incorrect sRGB profile\n",
      " 99%|█████████▉| 7314/7363 [02:48<00:01, 43.50it/s]libpng warning: iCCP: known incorrect sRGB profile\n",
      "100%|██████████| 7363/7363 [02:49<00:00, 43.44it/s]\n"
     ]
    }
   ],
   "source": [
    "# normalizing the bounding box values to [0,1]\n",
    "\n",
    "def convert(img_w,img_h, box):\n",
    "\n",
    "    x = box[0] + (box[2]/2.0)\n",
    "    y = box[1] + (box[3]/2.0)\n",
    "\n",
    "    x = x/img_w\n",
    "    y = y/img_h\n",
    "    \n",
    "    w = box[2]/img_w\n",
    "    h = box[3]/img_h\n",
    "\n",
    "    return x,y,w,h\n",
    "\n",
    "img_dir = '/home/ruthvik/jupyter/aaic/DL/self_case_study_2/PyTorch-YOLOv3/data/custom/images/'\n",
    "\n",
    "txt_dir = '/home/ruthvik/jupyter/aaic/DL/self_case_study_2/PyTorch-YOLOv3/data/custom/labels/'\n",
    "\n",
    "images_files = os.listdir(img_dir)\n",
    "\n",
    "txt_files = os.listdir(txt_dir)\n",
    "\n",
    "for image in tqdm(images_files):\n",
    "    if os.path.isfile(img_dir+image):\n",
    "        img = cv2.imread(os.path.join(img_dir,image))\n",
    "        img_h , img_w, _ = img.shape\n",
    "\n",
    "        fname = image.split('.')[0]\n",
    "        fname = fname+'.txt'\n",
    "        txt_file = os.path.join(txt_dir,fname)\n",
    "        lines =[]\n",
    "        with open(txt_file) as f:\n",
    "            for line in f:\n",
    "                labels = line.split()\n",
    "                labels[0]= int(labels[0])\n",
    "                labels[1],labels[2],labels[3],labels[4] = float(labels[1]),float(labels[2]),float(labels[3]),float(labels[4])\n",
    "                box = [labels[1],labels[2],labels[3],labels[4]]\n",
    "                labels[1],labels[2],labels[3],labels[4] = convert(img_w,img_h,box)\n",
    "                new_line = ' '.join(str(i) for i in labels)\n",
    "                line = line.replace(line,new_line)\n",
    "                lines.append(line)\n",
    "            f.close()\n",
    "        with open(txt_file,'w') as fw:\n",
    "            for line in lines:\n",
    "                fw.write(line)\n",
    "                fw.write(\"\\n\")\n",
    "            fw.close()\n",
    "      \n"
   ]
  }
 ],
 "metadata": {
  "kernelspec": {
   "display_name": "Python 3 (ipykernel)",
   "language": "python",
   "name": "python3"
  },
  "language_info": {
   "codemirror_mode": {
    "name": "ipython",
    "version": 3
   },
   "file_extension": ".py",
   "mimetype": "text/x-python",
   "name": "python",
   "nbconvert_exporter": "python",
   "pygments_lexer": "ipython3",
   "version": "3.9.7"
  }
 },
 "nbformat": 4,
 "nbformat_minor": 5
}
